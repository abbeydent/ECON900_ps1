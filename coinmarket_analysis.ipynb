{
 "cells": [
  {
   "cell_type": "code",
   "execution_count": 3,
   "metadata": {},
   "outputs": [],
   "source": [
    "import numpy as np\n",
    "import os\n",
    "import pandas as pd\n",
    "import time\n",
    "from datetime import datetime\n",
    "import matplotlib.pyplot as plt\n",
    "from sklearn import datasets\n",
    "from sklearn import linear_model\n",
    "import statsmodels.api as sm\n",
    "import scipy.stats as stats\n",
    "from IPython import get_ipython\n"
   ]
  },
  {
   "cell_type": "code",
   "execution_count": 4,
   "metadata": {},
   "outputs": [],
   "source": [
    "get_ipython().run_line_magic('matplotlib', 'inline')\n",
    "plt.style.use('seaborn-whitegrid')\n"
   ]
  },
  {
   "cell_type": "code",
   "execution_count": 9,
   "metadata": {},
   "outputs": [],
   "source": [
    "df = pd.read_csv(\"parsed_historical_files/coinmarket_historical_dataset\")\n"
   ]
  },
  {
   "cell_type": "code",
   "execution_count": 58,
   "metadata": {},
   "outputs": [],
   "source": [
    "#print(df)"
   ]
  },
  {
   "cell_type": "code",
   "execution_count": 52,
   "metadata": {},
   "outputs": [],
   "source": [
    "#df.head"
   ]
  },
  {
   "cell_type": "code",
   "execution_count": 53,
   "metadata": {},
   "outputs": [],
   "source": [
    "#df.info()"
   ]
  },
  {
   "cell_type": "code",
   "execution_count": 13,
   "metadata": {},
   "outputs": [
    {
     "data": {
      "text/html": [
       "<div>\n",
       "<style scoped>\n",
       "    .dataframe tbody tr th:only-of-type {\n",
       "        vertical-align: middle;\n",
       "    }\n",
       "\n",
       "    .dataframe tbody tr th {\n",
       "        vertical-align: top;\n",
       "    }\n",
       "\n",
       "    .dataframe thead th {\n",
       "        text-align: right;\n",
       "    }\n",
       "</style>\n",
       "<table border=\"1\" class=\"dataframe\">\n",
       "  <thead>\n",
       "    <tr style=\"text-align: right;\">\n",
       "      <th></th>\n",
       "      <th>Unnamed: 0</th>\n",
       "      <th>close_price</th>\n",
       "      <th>date</th>\n",
       "      <th>high</th>\n",
       "      <th>low</th>\n",
       "      <th>market_cap</th>\n",
       "      <th>open_price</th>\n",
       "      <th>volume</th>\n",
       "    </tr>\n",
       "  </thead>\n",
       "  <tbody>\n",
       "    <tr>\n",
       "      <th>129457</th>\n",
       "      <td>129457</td>\n",
       "      <td>0.128198</td>\n",
       "      <td>Apr 01, 2014</td>\n",
       "      <td>0.134950</td>\n",
       "      <td>0.123203</td>\n",
       "      <td>4,916,060</td>\n",
       "      <td>0.123203</td>\n",
       "      <td>36,177</td>\n",
       "    </tr>\n",
       "    <tr>\n",
       "      <th>93682</th>\n",
       "      <td>93682</td>\n",
       "      <td>0.008757</td>\n",
       "      <td>Apr 01, 2014</td>\n",
       "      <td>0.009319</td>\n",
       "      <td>0.008588</td>\n",
       "      <td>68,458,134</td>\n",
       "      <td>0.008785</td>\n",
       "      <td>172,709</td>\n",
       "    </tr>\n",
       "    <tr>\n",
       "      <th>174882</th>\n",
       "      <td>174882</td>\n",
       "      <td>0.005239</td>\n",
       "      <td>Apr 01, 2014</td>\n",
       "      <td>0.006283</td>\n",
       "      <td>0.004757</td>\n",
       "      <td>332,063</td>\n",
       "      <td>0.004935</td>\n",
       "      <td>19,790</td>\n",
       "    </tr>\n",
       "    <tr>\n",
       "      <th>15537</th>\n",
       "      <td>15537</td>\n",
       "      <td>1.150000</td>\n",
       "      <td>Apr 01, 2014</td>\n",
       "      <td>1.230000</td>\n",
       "      <td>1.100000</td>\n",
       "      <td>3,569,122</td>\n",
       "      <td>1.160000</td>\n",
       "      <td>85,078</td>\n",
       "    </tr>\n",
       "    <tr>\n",
       "      <th>68952</th>\n",
       "      <td>68952</td>\n",
       "      <td>13.130000</td>\n",
       "      <td>Apr 01, 2014</td>\n",
       "      <td>13.670000</td>\n",
       "      <td>12.760000</td>\n",
       "      <td>355,878,160</td>\n",
       "      <td>12.770000</td>\n",
       "      <td>7,346,120</td>\n",
       "    </tr>\n",
       "  </tbody>\n",
       "</table>\n",
       "</div>"
      ],
      "text/plain": [
       "        Unnamed: 0  close_price          date       high        low  \\\n",
       "129457      129457     0.128198  Apr 01, 2014   0.134950   0.123203   \n",
       "93682        93682     0.008757  Apr 01, 2014   0.009319   0.008588   \n",
       "174882      174882     0.005239  Apr 01, 2014   0.006283   0.004757   \n",
       "15537        15537     1.150000  Apr 01, 2014   1.230000   1.100000   \n",
       "68952        68952    13.130000  Apr 01, 2014  13.670000  12.760000   \n",
       "\n",
       "         market_cap  open_price     volume  \n",
       "129457    4,916,060    0.123203     36,177  \n",
       "93682    68,458,134    0.008785    172,709  \n",
       "174882      332,063    0.004935     19,790  \n",
       "15537     3,569,122    1.160000     85,078  \n",
       "68952   355,878,160   12.770000  7,346,120  "
      ]
     },
     "execution_count": 13,
     "metadata": {},
     "output_type": "execute_result"
    }
   ],
   "source": [
    "df.sort_values(['date'], ascending = [True], inplace = True)\n",
    "df.head()"
   ]
  },
  {
   "cell_type": "code",
   "execution_count": 51,
   "metadata": {},
   "outputs": [],
   "source": [
    "#print(df)"
   ]
  },
  {
   "cell_type": "code",
   "execution_count": 43,
   "metadata": {},
   "outputs": [],
   "source": [
    "open_price = df.iloc[:,6]\n",
    "#print(open_price)"
   ]
  },
  {
   "cell_type": "code",
   "execution_count": 44,
   "metadata": {},
   "outputs": [],
   "source": [
    "low = df.iloc[:,4]\n",
    "#print(low)"
   ]
  },
  {
   "cell_type": "code",
   "execution_count": 42,
   "metadata": {},
   "outputs": [],
   "source": [
    "high = df.iloc[:,3]\n",
    "#print(high)"
   ]
  },
  {
   "cell_type": "code",
   "execution_count": 48,
   "metadata": {},
   "outputs": [],
   "source": [
    "close_price = df.iloc[:,1]\n",
    "#print(close_price)"
   ]
  },
  {
   "cell_type": "code",
   "execution_count": 50,
   "metadata": {},
   "outputs": [
    {
     "data": {
      "text/plain": [
       "Text(0, 0.5, 'open_price')"
      ]
     },
     "execution_count": 50,
     "metadata": {},
     "output_type": "execute_result"
    },
    {
     "data": {
      "image/png": "[encoded data removed]",
      "text/plain": [
       "<Figure size 432x288 with 1 Axes>"
      ]
     },
     "metadata": {},
     "output_type": "display_data"
    }
   ],
   "source": [
    "N= 250\n",
    "plt.scatter(low, close_price, color='r')\n",
    "plt.xlabel('low')\n",
    "plt.ylabel('open_price')\n",
    "#plt.show()"
   ]
  },
  {
   "cell_type": "code",
   "execution_count": 49,
   "metadata": {},
   "outputs": [
    {
     "data": {
      "text/plain": [
       "Text(0, 0.5, 'open_price')"
      ]
     },
     "execution_count": 49,
     "metadata": {},
     "output_type": "execute_result"
    },
    {
     "data": {
      "image/png": "[encoded data removed]",
      "text/plain": [
       "<Figure size 432x288 with 1 Axes>"
      ]
     },
     "metadata": {},
     "output_type": "display_data"
    }
   ],
   "source": [
    "N=250\n",
    "plt.scatter(high, open_price, color='b')\n",
    "plt.xlabel('high')\n",
    "plt.ylabel('open_price')\n",
    "#plt.show()"
   ]
  },
  {
   "cell_type": "code",
   "execution_count": 55,
   "metadata": {},
   "outputs": [
    {
     "data": {
      "text/html": [
       "<table class=\"simpletable\">\n",
       "<caption>OLS Regression Results</caption>\n",
       "<tr>\n",
       "  <th>Dep. Variable:</th>       <td>open_price</td>    <th>  R-squared:         </th>  <td>   0.993</td>  \n",
       "</tr>\n",
       "<tr>\n",
       "  <th>Model:</th>                   <td>OLS</td>       <th>  Adj. R-squared:    </th>  <td>   0.993</td>  \n",
       "</tr>\n",
       "<tr>\n",
       "  <th>Method:</th>             <td>Least Squares</td>  <th>  F-statistic:       </th>  <td>4.403e+07</td> \n",
       "</tr>\n",
       "<tr>\n",
       "  <th>Date:</th>             <td>Tue, 23 Apr 2019</td> <th>  Prob (F-statistic):</th>   <td>  0.00</td>   \n",
       "</tr>\n",
       "<tr>\n",
       "  <th>Time:</th>                 <td>23:09:13</td>     <th>  Log-Likelihood:    </th> <td>-1.5039e+06</td>\n",
       "</tr>\n",
       "<tr>\n",
       "  <th>No. Observations:</th>      <td>304342</td>      <th>  AIC:               </th>  <td>3.008e+06</td> \n",
       "</tr>\n",
       "<tr>\n",
       "  <th>Df Residuals:</th>          <td>304340</td>      <th>  BIC:               </th>  <td>3.008e+06</td> \n",
       "</tr>\n",
       "<tr>\n",
       "  <th>Df Model:</th>              <td>     1</td>      <th>                     </th>      <td> </td>     \n",
       "</tr>\n",
       "<tr>\n",
       "  <th>Covariance Type:</th>      <td>nonrobust</td>    <th>                     </th>      <td> </td>     \n",
       "</tr>\n",
       "</table>\n",
       "<table class=\"simpletable\">\n",
       "<tr>\n",
       "       <td></td>          <th>coef</th>     <th>std err</th>      <th>t</th>      <th>P>|t|</th>  <th>[0.025</th>    <th>0.975]</th>  \n",
       "</tr>\n",
       "<tr>\n",
       "  <th>const</th>       <td>    0.1235</td> <td>    0.062</td> <td>    2.005</td> <td> 0.045</td> <td>    0.003</td> <td>    0.244</td>\n",
       "</tr>\n",
       "<tr>\n",
       "  <th>close_price</th> <td>    0.9970</td> <td>    0.000</td> <td> 6635.718</td> <td> 0.000</td> <td>    0.997</td> <td>    0.997</td>\n",
       "</tr>\n",
       "</table>\n",
       "<table class=\"simpletable\">\n",
       "<tr>\n",
       "  <th>Omnibus:</th>       <td>221833.089</td> <th>  Durbin-Watson:     </th>     <td>   1.995</td>    \n",
       "</tr>\n",
       "<tr>\n",
       "  <th>Prob(Omnibus):</th>   <td> 0.000</td>   <th>  Jarque-Bera (JB):  </th> <td>103172358308.570</td>\n",
       "</tr>\n",
       "<tr>\n",
       "  <th>Skew:</th>            <td> 1.241</td>   <th>  Prob(JB):          </th>     <td>    0.00</td>    \n",
       "</tr>\n",
       "<tr>\n",
       "  <th>Kurtosis:</th>       <td>2855.372</td>  <th>  Cond. No.          </th>     <td>    412.</td>    \n",
       "</tr>\n",
       "</table><br/><br/>Warnings:<br/>[1] Standard Errors assume that the covariance matrix of the errors is correctly specified."
      ],
      "text/plain": [
       "<class 'statsmodels.iolib.summary.Summary'>\n",
       "\"\"\"\n",
       "                            OLS Regression Results                            \n",
       "==============================================================================\n",
       "Dep. Variable:             open_price   R-squared:                       0.993\n",
       "Model:                            OLS   Adj. R-squared:                  0.993\n",
       "Method:                 Least Squares   F-statistic:                 4.403e+07\n",
       "Date:                Tue, 23 Apr 2019   Prob (F-statistic):               0.00\n",
       "Time:                        23:09:13   Log-Likelihood:            -1.5039e+06\n",
       "No. Observations:              304342   AIC:                         3.008e+06\n",
       "Df Residuals:                  304340   BIC:                         3.008e+06\n",
       "Df Model:                           1                                         \n",
       "Covariance Type:            nonrobust                                         \n",
       "===============================================================================\n",
       "                  coef    std err          t      P>|t|      [0.025      0.975]\n",
       "-------------------------------------------------------------------------------\n",
       "const           0.1235      0.062      2.005      0.045       0.003       0.244\n",
       "close_price     0.9970      0.000   6635.718      0.000       0.997       0.997\n",
       "==============================================================================\n",
       "Omnibus:                   221833.089   Durbin-Watson:                   1.995\n",
       "Prob(Omnibus):                  0.000   Jarque-Bera (JB):     103172358308.570\n",
       "Skew:                           1.241   Prob(JB):                         0.00\n",
       "Kurtosis:                    2855.372   Cond. No.                         412.\n",
       "==============================================================================\n",
       "\n",
       "Warnings:\n",
       "[1] Standard Errors assume that the covariance matrix of the errors is correctly specified.\n",
       "\"\"\""
      ]
     },
     "execution_count": 55,
     "metadata": {},
     "output_type": "execute_result"
    }
   ],
   "source": [
    "data = df['close_price']\n",
    "target = df['open_price']\n",
    "data = sm.add_constant(data)\n",
    "model=sm.OLS(target, data).fit()\n",
    "predictions=model.predict(data)\n",
    "model.summary()"
   ]
  },
  {
   "cell_type": "code",
   "execution_count": 56,
   "metadata": {},
   "outputs": [
    {
     "data": {
      "text/html": [
       "<table class=\"simpletable\">\n",
       "<caption>OLS Regression Results</caption>\n",
       "<tr>\n",
       "  <th>Dep. Variable:</th>          <td>high</td>       <th>  R-squared:         </th>  <td>   0.992</td>  \n",
       "</tr>\n",
       "<tr>\n",
       "  <th>Model:</th>                   <td>OLS</td>       <th>  Adj. R-squared:    </th>  <td>   0.992</td>  \n",
       "</tr>\n",
       "<tr>\n",
       "  <th>Method:</th>             <td>Least Squares</td>  <th>  F-statistic:       </th>  <td>3.805e+07</td> \n",
       "</tr>\n",
       "<tr>\n",
       "  <th>Date:</th>             <td>Tue, 23 Apr 2019</td> <th>  Prob (F-statistic):</th>   <td>  0.00</td>   \n",
       "</tr>\n",
       "<tr>\n",
       "  <th>Time:</th>                 <td>23:18:48</td>     <th>  Log-Likelihood:    </th> <td>-1.5418e+06</td>\n",
       "</tr>\n",
       "<tr>\n",
       "  <th>No. Observations:</th>      <td>304342</td>      <th>  AIC:               </th>  <td>3.084e+06</td> \n",
       "</tr>\n",
       "<tr>\n",
       "  <th>Df Residuals:</th>          <td>304340</td>      <th>  BIC:               </th>  <td>3.084e+06</td> \n",
       "</tr>\n",
       "<tr>\n",
       "  <th>Df Model:</th>              <td>     1</td>      <th>                     </th>      <td> </td>     \n",
       "</tr>\n",
       "<tr>\n",
       "  <th>Covariance Type:</th>      <td>nonrobust</td>    <th>                     </th>      <td> </td>     \n",
       "</tr>\n",
       "</table>\n",
       "<table class=\"simpletable\">\n",
       "<tr>\n",
       "       <td></td>         <th>coef</th>     <th>std err</th>      <th>t</th>      <th>P>|t|</th>  <th>[0.025</th>    <th>0.975]</th>  \n",
       "</tr>\n",
       "<tr>\n",
       "  <th>const</th>      <td>    0.1461</td> <td>    0.070</td> <td>    2.093</td> <td> 0.036</td> <td>    0.009</td> <td>    0.283</td>\n",
       "</tr>\n",
       "<tr>\n",
       "  <th>open_price</th> <td>    1.0494</td> <td>    0.000</td> <td> 6168.231</td> <td> 0.000</td> <td>    1.049</td> <td>    1.050</td>\n",
       "</tr>\n",
       "</table>\n",
       "<table class=\"simpletable\">\n",
       "<tr>\n",
       "  <th>Omnibus:</th>       <td>1260733.416</td> <th>  Durbin-Watson:     </th>     <td>   1.999</td>     \n",
       "</tr>\n",
       "<tr>\n",
       "  <th>Prob(Omnibus):</th>   <td> 0.000</td>    <th>  Jarque-Bera (JB):  </th> <td>7312735338977.051</td>\n",
       "</tr>\n",
       "<tr>\n",
       "  <th>Skew:</th>            <td>114.061</td>   <th>  Prob(JB):          </th>     <td>    0.00</td>     \n",
       "</tr>\n",
       "<tr>\n",
       "  <th>Kurtosis:</th>       <td>24015.922</td>  <th>  Cond. No.          </th>     <td>    412.</td>     \n",
       "</tr>\n",
       "</table><br/><br/>Warnings:<br/>[1] Standard Errors assume that the covariance matrix of the errors is correctly specified."
      ],
      "text/plain": [
       "<class 'statsmodels.iolib.summary.Summary'>\n",
       "\"\"\"\n",
       "                            OLS Regression Results                            \n",
       "==============================================================================\n",
       "Dep. Variable:                   high   R-squared:                       0.992\n",
       "Model:                            OLS   Adj. R-squared:                  0.992\n",
       "Method:                 Least Squares   F-statistic:                 3.805e+07\n",
       "Date:                Tue, 23 Apr 2019   Prob (F-statistic):               0.00\n",
       "Time:                        23:18:48   Log-Likelihood:            -1.5418e+06\n",
       "No. Observations:              304342   AIC:                         3.084e+06\n",
       "Df Residuals:                  304340   BIC:                         3.084e+06\n",
       "Df Model:                           1                                         \n",
       "Covariance Type:            nonrobust                                         \n",
       "==============================================================================\n",
       "                 coef    std err          t      P>|t|      [0.025      0.975]\n",
       "------------------------------------------------------------------------------\n",
       "const          0.1461      0.070      2.093      0.036       0.009       0.283\n",
       "open_price     1.0494      0.000   6168.231      0.000       1.049       1.050\n",
       "==============================================================================\n",
       "Omnibus:                  1260733.416   Durbin-Watson:                   1.999\n",
       "Prob(Omnibus):                  0.000   Jarque-Bera (JB):    7312735338977.051\n",
       "Skew:                         114.061   Prob(JB):                         0.00\n",
       "Kurtosis:                   24015.922   Cond. No.                         412.\n",
       "==============================================================================\n",
       "\n",
       "Warnings:\n",
       "[1] Standard Errors assume that the covariance matrix of the errors is correctly specified.\n",
       "\"\"\""
      ]
     },
     "execution_count": 56,
     "metadata": {},
     "output_type": "execute_result"
    }
   ],
   "source": [
    "data = df['open_price']\n",
    "target = df['high']\n",
    "data = sm.add_constant(data)\n",
    "model=sm.OLS(target, data).fit()\n",
    "predictions=model.predict(data)\n",
    "model.summary()\n"
   ]
  },
  {
   "cell_type": "code",
   "execution_count": 57,
   "metadata": {},
   "outputs": [
    {
     "data": {
      "text/html": [
       "<table class=\"simpletable\">\n",
       "<caption>OLS Regression Results</caption>\n",
       "<tr>\n",
       "  <th>Dep. Variable:</th>       <td>close_price</td>   <th>  R-squared:         </th>  <td>   0.995</td>  \n",
       "</tr>\n",
       "<tr>\n",
       "  <th>Model:</th>                   <td>OLS</td>       <th>  Adj. R-squared:    </th>  <td>   0.995</td>  \n",
       "</tr>\n",
       "<tr>\n",
       "  <th>Method:</th>             <td>Least Squares</td>  <th>  F-statistic:       </th>  <td>6.018e+07</td> \n",
       "</tr>\n",
       "<tr>\n",
       "  <th>Date:</th>             <td>Tue, 23 Apr 2019</td> <th>  Prob (F-statistic):</th>   <td>  0.00</td>   \n",
       "</tr>\n",
       "<tr>\n",
       "  <th>Time:</th>                 <td>23:22:31</td>     <th>  Log-Likelihood:    </th> <td>-1.4565e+06</td>\n",
       "</tr>\n",
       "<tr>\n",
       "  <th>No. Observations:</th>      <td>304342</td>      <th>  AIC:               </th>  <td>2.913e+06</td> \n",
       "</tr>\n",
       "<tr>\n",
       "  <th>Df Residuals:</th>          <td>304340</td>      <th>  BIC:               </th>  <td>2.913e+06</td> \n",
       "</tr>\n",
       "<tr>\n",
       "  <th>Df Model:</th>              <td>     1</td>      <th>                     </th>      <td> </td>     \n",
       "</tr>\n",
       "<tr>\n",
       "  <th>Covariance Type:</th>      <td>nonrobust</td>    <th>                     </th>      <td> </td>     \n",
       "</tr>\n",
       "</table>\n",
       "<table class=\"simpletable\">\n",
       "<tr>\n",
       "    <td></td>       <th>coef</th>     <th>std err</th>      <th>t</th>      <th>P>|t|</th>  <th>[0.025</th>    <th>0.975]</th>  \n",
       "</tr>\n",
       "<tr>\n",
       "  <th>const</th> <td>    0.1203</td> <td>    0.053</td> <td>    2.281</td> <td> 0.023</td> <td>    0.017</td> <td>    0.224</td>\n",
       "</tr>\n",
       "<tr>\n",
       "  <th>low</th>   <td>    1.0534</td> <td>    0.000</td> <td> 7757.365</td> <td> 0.000</td> <td>    1.053</td> <td>    1.054</td>\n",
       "</tr>\n",
       "</table>\n",
       "<table class=\"simpletable\">\n",
       "<tr>\n",
       "  <th>Omnibus:</th>       <td>988807.377</td> <th>  Durbin-Watson:     </th>     <td>   1.998</td>    \n",
       "</tr>\n",
       "<tr>\n",
       "  <th>Prob(Omnibus):</th>   <td> 0.000</td>   <th>  Jarque-Bera (JB):  </th> <td>315097964072.414</td>\n",
       "</tr>\n",
       "<tr>\n",
       "  <th>Skew:</th>            <td>54.683</td>   <th>  Prob(JB):          </th>     <td>    0.00</td>    \n",
       "</tr>\n",
       "<tr>\n",
       "  <th>Kurtosis:</th>       <td>4986.597</td>  <th>  Cond. No.          </th>     <td>    390.</td>    \n",
       "</tr>\n",
       "</table><br/><br/>Warnings:<br/>[1] Standard Errors assume that the covariance matrix of the errors is correctly specified."
      ],
      "text/plain": [
       "<class 'statsmodels.iolib.summary.Summary'>\n",
       "\"\"\"\n",
       "                            OLS Regression Results                            \n",
       "==============================================================================\n",
       "Dep. Variable:            close_price   R-squared:                       0.995\n",
       "Model:                            OLS   Adj. R-squared:                  0.995\n",
       "Method:                 Least Squares   F-statistic:                 6.018e+07\n",
       "Date:                Tue, 23 Apr 2019   Prob (F-statistic):               0.00\n",
       "Time:                        23:22:31   Log-Likelihood:            -1.4565e+06\n",
       "No. Observations:              304342   AIC:                         2.913e+06\n",
       "Df Residuals:                  304340   BIC:                         2.913e+06\n",
       "Df Model:                           1                                         \n",
       "Covariance Type:            nonrobust                                         \n",
       "==============================================================================\n",
       "                 coef    std err          t      P>|t|      [0.025      0.975]\n",
       "------------------------------------------------------------------------------\n",
       "const          0.1203      0.053      2.281      0.023       0.017       0.224\n",
       "low            1.0534      0.000   7757.365      0.000       1.053       1.054\n",
       "==============================================================================\n",
       "Omnibus:                   988807.377   Durbin-Watson:                   1.998\n",
       "Prob(Omnibus):                  0.000   Jarque-Bera (JB):     315097964072.414\n",
       "Skew:                          54.683   Prob(JB):                         0.00\n",
       "Kurtosis:                    4986.597   Cond. No.                         390.\n",
       "==============================================================================\n",
       "\n",
       "Warnings:\n",
       "[1] Standard Errors assume that the covariance matrix of the errors is correctly specified.\n",
       "\"\"\""
      ]
     },
     "execution_count": 57,
     "metadata": {},
     "output_type": "execute_result"
    }
   ],
   "source": [
    "data = df['low']\n",
    "target = df['close_price']\n",
    "data = sm.add_constant(data)\n",
    "model=sm.OLS(target, data).fit()\n",
    "predictions=model.predict(data)\n",
    "model.summary()"
   ]
  },
  {
   "cell_type": "code",
   "execution_count": null,
   "metadata": {},
   "outputs": [],
   "source": []
  }
 ],
 "metadata": {
  "kernelspec": {
   "display_name": "Python 3",
   "language": "python",
   "name": "python3"
  },
  "language_info": {
   "codemirror_mode": {
    "name": "ipython",
    "version": 3
   },
   "file_extension": ".py",
   "mimetype": "text/x-python",
   "name": "python",
   "nbconvert_exporter": "python",
   "pygments_lexer": "ipython3",
   "version": "3.7.1"
  }
 },
 "nbformat": 4,
 "nbformat_minor": 2
}
